{
 "cells": [
  {
   "cell_type": "markdown",
   "metadata": {},
   "source": [
    "# Introduction\n",
    "\n",
    "$\\newcommand{\\G}{\\mathcal{G}}$\n",
    "$\\newcommand{\\V}{\\mathcal{V}}$\n",
    "$\\newcommand{\\E}{\\mathcal{E}}$\n",
    "$\\newcommand{\\R}{\\mathbb{R}}$\n",
    "\n",
    "This notebook shows how to apply the graph ConvNet ([paper] & [code]), for classifying graph signals (EEG). For this example we have a set of EEG signals (epochs) belonging to two different classes (passive vs attentive task). The SG.npy file correndonds to the $W$ matrix of our paper and is used as the basis to construct the spatiotemporal graph.\n",
    "\n",
    "[paper]: https://arxiv.org/abs/1606.09375\n",
    "[code]:  https://github.com/mdeff/cnn_graph\n",
    "\n",
    "We note that this just an exemplar usage scenario. The full code for the GCNN is provided at (and can be cloned) at [code].\n"
   ]
  },
  {
   "cell_type": "code",
   "execution_count": 1,
   "metadata": {},
   "outputs": [],
   "source": [
    "from lib import models, graph, coarsening, utils\n",
    "import tensorflow as tf\n",
    "import numpy as np\n",
    "import matplotlib.pyplot as plt\n",
    "from scipy.linalg import block_diag\n",
    "from sklearn import preprocessing\n",
    "%matplotlib inline"
   ]
  },
  {
   "cell_type": "markdown",
   "metadata": {},
   "source": [
    "# 1 Data\n",
    "\n",
    "For the purpose of the demo, let's create a random data matrix $X \\in \\R^{n \\times d_x}$ and somehow infer a label $y_i = f(x_i)$."
   ]
  },
  {
   "cell_type": "code",
   "execution_count": 2,
   "metadata": {},
   "outputs": [
    {
     "name": "stdout",
     "output_type": "stream",
     "text": [
      "Graph Signal Dimensionality: 24256\n",
      "Number of Graph Signals: 474\n",
      "Class imbalance:  [234 240]\n",
      "(474,)\n",
      "474\n"
     ]
    }
   ],
   "source": [
    "X=np.load('total_graph_train_trials.npy')\n",
    "d = X.shape[1]    # Dimensionality.\n",
    "n = X.shape[0]  # Number of samples.\n",
    "#c = 5      # Number of feature communities.\n",
    "y=np.load('total_graph_train_labels.npy')\n",
    "y=y[0,:]\n",
    "print('Graph Signal Dimensionality: '+str(d))\n",
    "print('Number of Graph Signals: '+str(n))\n",
    "print('Class imbalance: ', np.unique(y, return_counts=True)[1])\n",
    "print(y.shape)\n",
    "print(len(X))"
   ]
  },
  {
   "cell_type": "markdown",
   "metadata": {},
   "source": [
    "Then load training, validation and testing sets."
   ]
  },
  {
   "cell_type": "code",
   "execution_count": 3,
   "metadata": {},
   "outputs": [
    {
     "name": "stdout",
     "output_type": "stream",
     "text": [
      "Class imbalance in Train Set:  [234 240]\n",
      "Class imbalance in Val Set:  [5 5]\n",
      "Class imbalance in Test Set:  [5 5]\n"
     ]
    }
   ],
   "source": [
    "#min_max_scaler = preprocessing.MinMaxScaler()\n",
    "#X_train = min_max_scaler.fit_transform(X)\n",
    "X_train=X\n",
    "X_val   = np.load('graph_val_trials.npy')\n",
    "#X_val = min_max_scaler.fit_transform(X_val)\n",
    "X_test  = np.load('graph_test_trials.npy')\n",
    "#X_test = min_max_scaler.fit_transform(X_test)\n",
    "\n",
    "y_train = y\n",
    "y_val   = np.load('val_labels.npy')\n",
    "y_val = y_val[0,:]\n",
    "y_test   = np.load('test_labels.npy')\n",
    "y_test = y_test[0,:]\n",
    "print('Class imbalance in Train Set: ', np.unique(y_train, return_counts=True)[1])\n",
    "print('Class imbalance in Val Set: ', np.unique(y_val, return_counts=True)[1])\n",
    "print('Class imbalance in Test Set: ', np.unique(y_test, return_counts=True)[1])\n",
    "n = X_train.shape[0]"
   ]
  },
  {
   "cell_type": "markdown",
   "metadata": {},
   "source": [
    "If you choose to run the following cell then the GCNN will operate on the initial train set without the augmentation data (set the condition to \"True\"). The first 5/6 of the X_train contain the artificially generated epochs using the GEMD code (provided as Matlab scripts) with the last 1/6 of X_train contains the original training set."
   ]
  },
  {
   "cell_type": "code",
   "execution_count": 4,
   "metadata": {},
   "outputs": [],
   "source": [
    "if False:\n",
    "    N=round(n/6)\n",
    "    X_train=X[-N:]\n",
    "    X_val   = np.load('graph_val_trials.npy')\n",
    "    X_test  = np.load('graph_test_trials.npy')\n",
    "    y_train = y[-N:]\n",
    "    y_val   = np.load('val_labels.npy')\n",
    "    y_val = y_val[0,:]\n",
    "    y_test   = np.load('test_labels.npy')\n",
    "    y_test = y_test[0,:]\n",
    "    print('Class imbalance in Train Set: ', np.unique(y_train, return_counts=True)[1])\n",
    "    print('Class imbalance in Val Set: ', np.unique(y_val, return_counts=True)[1])\n",
    "    print('Class imbalance in Test Set: ', np.unique(y_test, return_counts=True)[1])\n"
   ]
  },
  {
   "cell_type": "markdown",
   "metadata": {},
   "source": [
    "# 2 Spatiotemporal Graph Construction\n",
    "\n",
    "Let $\\mathcal{G}=(\\mathcal{V}, \\mathcal{E}, \\textbf{W})$ be a graph that expresses the topology of the EEG recording sensor array with $W \\in \\{0,1\\}^{E\\times E}$ and $E$ being the number of sensors. The spatiotemporal graph that expresses jointly the relationship of an EEG signal with $T$ time samples is defined through its adjacency matrix as \n",
    "\\begin{equation}\n",
    "\\label{eq:multiplex_graph}\n",
    "    \\textbf{W}_{ST}=\\textbf{W}\\otimes \\textbf{I}_E + \\textbf{S}+\\textbf{S}^\\top\n",
    "\\end{equation}\n",
    "where ($\\otimes$) denotes the Kronecker product operator, $\\textbf{I}_E$ the $E \\times E$ identity matrix and $\\textbf{S}$ an $ET \\times ET$ matrix whose elements are calculated as $S_{i,j}=\\delta_{i,i+E}$ with $\\delta_{i,j}$ being the Kronecker delta."
   ]
  },
  {
   "cell_type": "code",
   "execution_count": 5,
   "metadata": {},
   "outputs": [
    {
     "name": "stdout",
     "output_type": "stream",
     "text": [
      "379\n"
     ]
    }
   ],
   "source": [
    "SG=np.load('SG.npy')\n",
    "temporal_dimension=int(d/SG.shape[0])\n",
    "spatial_dimension=int(SG.shape[0])\n",
    "SG=SG-np.eye(spatial_dimension,dtype=int)\n",
    "A=np.kron(np.eye(temporal_dimension,dtype=int),SG).astype(np.float32)\n",
    "\n",
    "#assert A.shape == (d, d)\n",
    "#print('d = |V| = {}, k|V| < |E| = {}'.format(d, A.nnz))\n",
    "#plt.spy(A, markersize=2, color='black');\n",
    "print(temporal_dimension)"
   ]
  },
  {
   "cell_type": "code",
   "execution_count": 6,
   "metadata": {},
   "outputs": [],
   "source": [
    "for i in range(spatial_dimension,d):\n",
    "    j=i-spatial_dimension;\n",
    "    A[i,j]=1\n",
    "    A[j,i]=1"
   ]
  },
  {
   "cell_type": "code",
   "execution_count": 7,
   "metadata": {},
   "outputs": [
    {
     "name": "stdout",
     "output_type": "stream",
     "text": [
      "d = |V| = 24256, k|V| < |E| = 200742\n"
     ]
    },
    {
     "data": {
      "image/png": "[encoded data removed]",
      "text/plain": [
       "<Figure size 432x288 with 1 Axes>"
      ]
     },
     "metadata": {
      "needs_background": "light"
     },
     "output_type": "display_data"
    }
   ],
   "source": [
    "from scipy import sparse\n",
    "A=sparse.coo_matrix(A)\n",
    "assert A.shape == (d, d)\n",
    "print('d = |V| = {}, k|V| < |E| = {}'.format(d, A.nnz))\n",
    "plt.spy(A, markersize=2, color='black');"
   ]
  },
  {
   "cell_type": "markdown",
   "metadata": {},
   "source": [
    "To be able to pool graph signals, we need first to coarsen the graph, i.e. to find which vertices to group together. At the end we'll have multiple graphs, like a pyramid, each at one level of resolution. The finest graph is where the input data lies, the coarsest graph is where the data at the output of the graph convolutional layers lie. That data, of reduced spatial dimensionality, can then be fed to a fully connected layer.\n",
    "\n",
    "The parameter here is the number of times to coarsen the graph. Each coarsening approximately reduces the size of the graph by a factor two. Thus if you want a pooling of size 4 in the first layer followed by a pooling of size 2 in the second, you'll need to coarsen $\\log_2(4+2) = 3$ times.\n",
    "\n",
    "After coarsening we rearrange the vertices (and add fake vertices) such that pooling a graph signal is analog to pooling a 1D signal. See the [paper] for details.\n",
    "\n",
    "[paper]: https://arxiv.org/abs/1606.09375"
   ]
  },
  {
   "cell_type": "code",
   "execution_count": 8,
   "metadata": {},
   "outputs": [
    {
     "name": "stdout",
     "output_type": "stream",
     "text": [
      "Layer 0: M_0 = |V| = 28272 nodes (4016 added),|E| = 100371 edges\n",
      "Layer 1: M_1 = |V| = 14136 nodes (1472 added),|E| = 64474 edges\n",
      "Layer 2: M_2 = |V| = 7068 nodes (489 added),|E| = 35301 edges\n",
      "Layer 3: M_3 = |V| = 3534 nodes (103 added),|E| = 18608 edges\n",
      "Layer 4: M_4 = |V| = 1767 nodes (0 added),|E| = 9404 edges\n"
     ]
    }
   ],
   "source": [
    "graphs, perm = coarsening.coarsen(A, levels=4, self_connections=False)\n",
    "\n",
    "X_train = coarsening.perm_data(X_train, perm)\n",
    "X_val = coarsening.perm_data(X_val, perm)\n",
    "X_test = coarsening.perm_data(X_test, perm)"
   ]
  },
  {
   "cell_type": "markdown",
   "metadata": {},
   "source": [
    "We finally need to compute the graph Laplacian $L$ for each of our graphs (the original and the coarsened versions), defined by their adjacency matrices $A$. The sole parameter here is the type of Laplacian, e.g. the combinatorial Laplacian, the normalized Laplacian or the random walk Laplacian."
   ]
  },
  {
   "cell_type": "code",
   "execution_count": 9,
   "metadata": {},
   "outputs": [],
   "source": [
    "L = [graph.laplacian(A, normalized=True) for A in graphs]\n",
    "#graph.plot_spectrum(L)"
   ]
  },
  {
   "cell_type": "markdown",
   "metadata": {},
   "source": [
    "# 3 Graph ConvNet\n",
    "\n",
    "Here we apply the graph convolutional neural network to signals lying on graphs. After designing the architecture and setting the hyper-parameters, the model takes as inputs the data matrix $X$, the target $y$ and a list of graph Laplacians $L$, one per coarsening level.\n",
    "\n",
    "The data, architecture and hyper-parameters are absolutely *not engineered to showcase performance*. Its sole purpose is to illustrate usage and functionality."
   ]
  },
  {
   "cell_type": "code",
   "execution_count": 10,
   "metadata": {},
   "outputs": [],
   "source": [
    "params = dict()\n",
    "params['dir_name']       = 'demo'\n",
    "params['num_epochs']     = 20\n",
    "params['batch_size']     = round(n/6)\n",
    "params['eval_frequency'] = 6\n",
    "\n",
    "# Building blocks.\n",
    "params['filter']         = 'chebyshev5'\n",
    "params['brelu']          = 'b1relu'\n",
    "params['pool']           = 'mpool1'\n",
    "\n",
    "# Number of classes.\n",
    "C = y.max() + 1\n",
    "assert C == np.unique(y).size\n",
    "\n",
    "# Architecture.\n",
    "params['F']              = [20, 20]  # Number of graph convolutional filters.\n",
    "params['K']              = [10, 10]  # Polynomial orders.\n",
    "params['p']              = [1, 2]    # Pooling sizes.\n",
    "params['M']              = [128, 64, C]  # Output dimensionality of fully connected layers.\n",
    "\n",
    "# Optimization.\n",
    "params['regularization'] = 5e-4\n",
    "params['dropout']        = 0.95\n",
    "params['learning_rate']  = 1e-3\n",
    "params['decay_rate']     = 0.95\n",
    "params['momentum']       = 0.9\n",
    "params['decay_steps']    = n / params['batch_size']"
   ]
  },
  {
   "cell_type": "code",
   "execution_count": 11,
   "metadata": {
    "scrolled": true
   },
   "outputs": [
    {
     "name": "stdout",
     "output_type": "stream",
     "text": [
      "NN architecture\n",
      "  input: M_0 = 28272\n",
      "  layer 1: cgconv1\n",
      "    representation: M_0 * F_1 / p_1 = 28272 * 20 / 1 = 565440\n",
      "    weights: F_0 * F_1 * K_1 = 1 * 20 * 10 = 200\n",
      "    biases: F_1 = 20\n",
      "  layer 2: cgconv2\n",
      "    representation: M_1 * F_2 / p_2 = 28272 * 20 / 2 = 282720\n",
      "    weights: F_1 * F_2 * K_2 = 20 * 20 * 10 = 4000\n",
      "    biases: F_2 = 20\n",
      "  layer 3: fc1\n",
      "    representation: M_3 = 128\n",
      "    weights: M_2 * M_3 = 282720 * 128 = 36188160\n",
      "    biases: M_3 = 128\n",
      "  layer 4: fc2\n",
      "    representation: M_4 = 64\n",
      "    weights: M_3 * M_4 = 128 * 64 = 8192\n",
      "    biases: M_4 = 64\n",
      "  layer 5: logits (softmax)\n",
      "    representation: M_5 = 2.0\n",
      "    weights: M_4 * M_5 = 64 * 2.0 = 128.0\n",
      "    biases: M_5 = 2.0\n",
      "WARNING:tensorflow:From C:\\Users\\fkalaganis\\Anaconda3\\lib\\site-packages\\tensorflow\\python\\framework\\op_def_library.py:263: colocate_with (from tensorflow.python.framework.ops) is deprecated and will be removed in a future version.\n",
      "Instructions for updating:\n",
      "Colocations handled automatically by placer.\n",
      "WARNING:tensorflow:From C:\\Users\\fkalaganis\\Desktop\\cnn_graph\\lib\\models.py:969: calling dropout (from tensorflow.python.ops.nn_ops) with keep_prob is deprecated and will be removed in a future version.\n",
      "Instructions for updating:\n",
      "Please use `rate` instead of `keep_prob`. Rate should be set to `rate = 1 - keep_prob`.\n",
      "WARNING:tensorflow:From C:\\Users\\fkalaganis\\Desktop\\cnn_graph\\lib\\models.py:209: to_int64 (from tensorflow.python.ops.math_ops) is deprecated and will be removed in a future version.\n",
      "Instructions for updating:\n",
      "Use tf.cast instead.\n",
      "(474, 28272)\n",
      "step 6 / 120 (epoch 1.00 / 20):\n",
      "  learning_rate = 1.00e-03, loss_average = 3.40e+01\n"
     ]
    },
    {
     "name": "stderr",
     "output_type": "stream",
     "text": [
      "C:\\Users\\fkalaganis\\Anaconda3\\lib\\site-packages\\sklearn\\metrics\\classification.py:1437: UndefinedMetricWarning: F-score is ill-defined and being set to 0.0 in labels with no predicted samples.\n",
      "  'precision', 'predicted', average, warn_for)\n"
     ]
    },
    {
     "name": "stdout",
     "output_type": "stream",
     "text": [
      "  validation accuracy: 50.00 (5 / 10), f1 (weighted): 33.33, loss: 5.56e+02\n",
      "  time: 11s (wall 10s)\n",
      "step 12 / 120 (epoch 2.00 / 20):\n",
      "  learning_rate = 9.50e-04, loss_average = 5.13e+01\n",
      "  validation accuracy: 50.00 (5 / 10), f1 (weighted): 33.33, loss: 5.66e+02\n",
      "  time: 25s (wall 20s)\n",
      "step 18 / 120 (epoch 3.00 / 20):\n",
      "  learning_rate = 9.02e-04, loss_average = 6.03e+01\n",
      "  validation accuracy: 70.00 (7 / 10), f1 (weighted): 67.03, loss: 5.56e+02\n",
      "  time: 37s (wall 30s)\n",
      "step 24 / 120 (epoch 4.00 / 20):\n",
      "  learning_rate = 8.57e-04, loss_average = 6.50e+01\n",
      "  validation accuracy: 70.00 (7 / 10), f1 (weighted): 67.03, loss: 5.57e+02\n",
      "  time: 49s (wall 39s)\n",
      "step 30 / 120 (epoch 5.00 / 20):\n",
      "  learning_rate = 8.15e-04, loss_average = 6.74e+01\n",
      "  validation accuracy: 60.00 (6 / 10), f1 (weighted): 52.38, loss: 5.61e+02\n",
      "  time: 62s (wall 48s)\n",
      "step 36 / 120 (epoch 6.00 / 20):\n",
      "  learning_rate = 7.74e-04, loss_average = 6.87e+01\n",
      "  validation accuracy: 70.00 (7 / 10), f1 (weighted): 67.03, loss: 5.61e+02\n",
      "  time: 74s (wall 57s)\n",
      "WARNING:tensorflow:From C:\\Users\\fkalaganis\\Anaconda3\\lib\\site-packages\\tensorflow\\python\\training\\saver.py:966: remove_checkpoint (from tensorflow.python.training.checkpoint_management) is deprecated and will be removed in a future version.\n",
      "Instructions for updating:\n",
      "Use standard file APIs to delete files with this prefix.\n",
      "step 42 / 120 (epoch 7.00 / 20):\n",
      "  learning_rate = 7.35e-04, loss_average = 6.93e+01\n",
      "  validation accuracy: 80.00 (8 / 10), f1 (weighted): 80.00, loss: 5.59e+02\n",
      "  time: 87s (wall 66s)\n",
      "step 48 / 120 (epoch 8.00 / 20):\n",
      "  learning_rate = 6.98e-04, loss_average = 6.97e+01\n",
      "  validation accuracy: 70.00 (7 / 10), f1 (weighted): 69.70, loss: 5.59e+02\n",
      "  time: 99s (wall 75s)\n",
      "step 54 / 120 (epoch 9.00 / 20):\n",
      "  learning_rate = 6.63e-04, loss_average = 6.98e+01\n",
      "  validation accuracy: 80.00 (8 / 10), f1 (weighted): 79.17, loss: 5.60e+02\n",
      "  time: 112s (wall 84s)\n",
      "step 60 / 120 (epoch 10.00 / 20):\n",
      "  learning_rate = 6.30e-04, loss_average = 6.99e+01\n",
      "  validation accuracy: 80.00 (8 / 10), f1 (weighted): 79.17, loss: 5.60e+02\n",
      "  time: 124s (wall 93s)\n",
      "step 66 / 120 (epoch 11.00 / 20):\n",
      "  learning_rate = 5.99e-04, loss_average = 7.00e+01\n",
      "  validation accuracy: 80.00 (8 / 10), f1 (weighted): 79.17, loss: 5.60e+02\n",
      "  time: 136s (wall 102s)\n",
      "step 72 / 120 (epoch 12.00 / 20):\n",
      "  learning_rate = 5.69e-04, loss_average = 7.00e+01\n",
      "  validation accuracy: 80.00 (8 / 10), f1 (weighted): 79.17, loss: 5.60e+02\n",
      "  time: 149s (wall 111s)\n",
      "step 78 / 120 (epoch 13.00 / 20):\n",
      "  learning_rate = 5.40e-04, loss_average = 7.00e+01\n",
      "  validation accuracy: 90.00 (9 / 10), f1 (weighted): 89.90, loss: 5.59e+02\n",
      "  time: 161s (wall 120s)\n",
      "step 84 / 120 (epoch 14.00 / 20):\n",
      "  learning_rate = 5.13e-04, loss_average = 7.00e+01\n",
      "  validation accuracy: 80.00 (8 / 10), f1 (weighted): 79.17, loss: 5.60e+02\n",
      "  time: 173s (wall 132s)\n",
      "step 90 / 120 (epoch 15.00 / 20):\n",
      "  learning_rate = 4.88e-04, loss_average = 7.00e+01\n",
      "  validation accuracy: 80.00 (8 / 10), f1 (weighted): 79.17, loss: 5.60e+02\n",
      "  time: 186s (wall 141s)\n",
      "step 96 / 120 (epoch 16.00 / 20):\n",
      "  learning_rate = 4.63e-04, loss_average = 7.00e+01\n",
      "  validation accuracy: 80.00 (8 / 10), f1 (weighted): 79.17, loss: 5.60e+02\n",
      "  time: 198s (wall 152s)\n",
      "step 102 / 120 (epoch 17.00 / 20):\n",
      "  learning_rate = 4.40e-04, loss_average = 7.00e+01\n",
      "  validation accuracy: 80.00 (8 / 10), f1 (weighted): 79.17, loss: 5.60e+02\n",
      "  time: 210s (wall 161s)\n",
      "step 108 / 120 (epoch 18.00 / 20):\n",
      "  learning_rate = 4.18e-04, loss_average = 7.00e+01\n",
      "  validation accuracy: 80.00 (8 / 10), f1 (weighted): 79.17, loss: 5.60e+02\n",
      "  time: 223s (wall 171s)\n",
      "step 114 / 120 (epoch 19.00 / 20):\n",
      "  learning_rate = 3.97e-04, loss_average = 7.00e+01\n",
      "  validation accuracy: 90.00 (9 / 10), f1 (weighted): 89.90, loss: 5.59e+02\n",
      "  time: 235s (wall 180s)\n",
      "step 120 / 120 (epoch 20.00 / 20):\n",
      "  learning_rate = 3.77e-04, loss_average = 7.00e+01\n",
      "  validation accuracy: 90.00 (9 / 10), f1 (weighted): 89.90, loss: 5.59e+02\n",
      "  time: 247s (wall 191s)\n",
      "validation accuracy: peak = 90.00, mean = 83.00\n"
     ]
    }
   ],
   "source": [
    "tf.reset_default_graph()\n",
    "model = models.cgcnn(L, **params)\n",
    "print(X_train.shape)\n",
    "accuracy, loss, t_step = model.fit(X_train, y_train, X_val, y_val)"
   ]
  },
  {
   "cell_type": "markdown",
   "metadata": {},
   "source": [
    "# 4 Evaluation\n",
    "\n",
    "We often want to monitor:\n",
    "1. The convergence, i.e. the training loss and the classification accuracy on the validation set.\n",
    "2. The performance, i.e. the classification accuracy on the testing set (to be compared with the training set accuracy to spot overfitting).\n",
    "\n",
    "The `model_perf` class in [utils.py](utils.py) can be used to compactly evaluate multiple models."
   ]
  },
  {
   "cell_type": "code",
   "execution_count": 12,
   "metadata": {},
   "outputs": [
    {
     "data": {
      "image/png": "[encoded data removed]",
      "text/plain": [
       "<Figure size 1080x360 with 2 Axes>"
      ]
     },
     "metadata": {
      "needs_background": "light"
     },
     "output_type": "display_data"
    }
   ],
   "source": [
    "fig, ax1 = plt.subplots(figsize=(15, 5))\n",
    "ax1.plot(accuracy, 'b.-')\n",
    "ax1.set_ylabel('validation accuracy', color='b')\n",
    "ax2 = ax1.twinx()\n",
    "ax2.plot(loss, 'g.-')\n",
    "ax2.set_ylabel('training loss', color='g')\n",
    "plt.show()"
   ]
  },
  {
   "cell_type": "code",
   "execution_count": 13,
   "metadata": {},
   "outputs": [
    {
     "name": "stdout",
     "output_type": "stream",
     "text": [
      "Time per step: 1626.03 ms\n"
     ]
    }
   ],
   "source": [
    "print('Time per step: {:.2f} ms'.format(t_step*1000))"
   ]
  },
  {
   "cell_type": "markdown",
   "metadata": {},
   "source": [
    "Please keep in mind that some incosistencies may occur due to weight initialization and small validation/testing sets"
   ]
  },
  {
   "cell_type": "code",
   "execution_count": 14,
   "metadata": {},
   "outputs": [
    {
     "name": "stdout",
     "output_type": "stream",
     "text": [
      "WARNING:tensorflow:From C:\\Users\\fkalaganis\\Anaconda3\\lib\\site-packages\\tensorflow\\python\\training\\saver.py:1266: checkpoint_exists (from tensorflow.python.training.checkpoint_management) is deprecated and will be removed in a future version.\n",
      "Instructions for updating:\n",
      "Use standard file APIs to check for files with this prefix.\n",
      "INFO:tensorflow:Restoring parameters from C:\\Users\\fkalaganis\\Desktop\\cnn_graph\\lib\\..\\checkpoints\\demo\\model-120\n",
      "accuracy: 80.00 (8 / 10), f1 (weighted): 80.00, loss: 5.60e+02\n",
      "time: 3s (wall 1s)\n"
     ]
    }
   ],
   "source": [
    "res = model.evaluate(X_test, y_test)\n",
    "print(res[0])"
   ]
  }
 ],
 "metadata": {
  "kernelspec": {
   "display_name": "Python 3",
   "language": "python",
   "name": "python3"
  },
  "language_info": {
   "codemirror_mode": {
    "name": "ipython",
    "version": 3
   },
   "file_extension": ".py",
   "mimetype": "text/x-python",
   "name": "python",
   "nbconvert_exporter": "python",
   "pygments_lexer": "ipython3",
   "version": "3.7.3"
  },
  "varInspector": {
   "cols": {
    "lenName": 16,
    "lenType": 16,
    "lenVar": 40
   },
   "kernels_config": {
    "python": {
     "delete_cmd_postfix": "",
     "delete_cmd_prefix": "del ",
     "library": "var_list.py",
     "varRefreshCmd": "print(var_dic_list())"
    },
    "r": {
     "delete_cmd_postfix": ") ",
     "delete_cmd_prefix": "rm(",
     "library": "var_list.r",
     "varRefreshCmd": "cat(var_dic_list()) "
    }
   },
   "types_to_exclude": [
    "module",
    "function",
    "builtin_function_or_method",
    "instance",
    "_Feature"
   ],
   "window_display": false
  }
 },
 "nbformat": 4,
 "nbformat_minor": 4
}
